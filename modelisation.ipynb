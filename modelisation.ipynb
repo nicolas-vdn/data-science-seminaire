{
 "cells": [
  {
   "cell_type": "code",
   "execution_count": 1,
   "metadata": {},
   "outputs": [],
   "source": [
    "import pandas as pd\n",
    "import seaborn as sns\n",
    "import numpy as np\n",
    "from sklearn.model_selection import train_test_split\n",
    "from sklearn.linear_model import LinearRegression\n",
    "from sklearn.metrics import mean_absolute_error, mean_squared_error, mean_absolute_percentage_error\n",
    "from sklearn.dummy import DummyRegressor"
   ]
  },
  {
   "cell_type": "code",
   "execution_count": 2,
   "metadata": {},
   "outputs": [],
   "source": [
    "df_train = pd.read_csv('./data/transformed/train_final.csv')"
   ]
  },
  {
   "cell_type": "markdown",
   "metadata": {},
   "source": [
    "# Train - Test"
   ]
  },
  {
   "cell_type": "code",
   "execution_count": 3,
   "metadata": {},
   "outputs": [],
   "source": [
    "X = df_train.drop('target', axis=1)\n",
    "y = df_train['target']\n",
    "\n",
    "X_train, X_test, y_train, y_test = train_test_split(X, y, test_size=0.002, random_state=42)"
   ]
  },
  {
   "cell_type": "code",
   "execution_count": 4,
   "metadata": {},
   "outputs": [
    {
     "data": {
      "text/html": [
       "<div>\n",
       "<style scoped>\n",
       "    .dataframe tbody tr th:only-of-type {\n",
       "        vertical-align: middle;\n",
       "    }\n",
       "\n",
       "    .dataframe tbody tr th {\n",
       "        vertical-align: top;\n",
       "    }\n",
       "\n",
       "    .dataframe thead th {\n",
       "        text-align: right;\n",
       "    }\n",
       "</style>\n",
       "<table border=\"1\" class=\"dataframe\">\n",
       "  <thead>\n",
       "    <tr style=\"text-align: right;\">\n",
       "      <th></th>\n",
       "      <th>county</th>\n",
       "      <th>is_business</th>\n",
       "      <th>product_type</th>\n",
       "      <th>is_consumption</th>\n",
       "      <th>row_id</th>\n",
       "      <th>prediction_unit_id</th>\n",
       "      <th>euros_per_mwh</th>\n",
       "      <th>gas_price</th>\n",
       "      <th>year</th>\n",
       "      <th>sin_month</th>\n",
       "      <th>cos_month</th>\n",
       "      <th>sin_day</th>\n",
       "      <th>cos_day</th>\n",
       "      <th>sin_time</th>\n",
       "      <th>cos_time</th>\n",
       "    </tr>\n",
       "  </thead>\n",
       "  <tbody>\n",
       "    <tr>\n",
       "      <th>423986</th>\n",
       "      <td>10</td>\n",
       "      <td>0</td>\n",
       "      <td>3</td>\n",
       "      <td>0</td>\n",
       "      <td>424112</td>\n",
       "      <td>39</td>\n",
       "      <td>181.38</td>\n",
       "      <td>77.91</td>\n",
       "      <td>2022</td>\n",
       "      <td>0.500000</td>\n",
       "      <td>8.660254e-01</td>\n",
       "      <td>-0.651372</td>\n",
       "      <td>-0.758758</td>\n",
       "      <td>-0.631088</td>\n",
       "      <td>-0.775711</td>\n",
       "    </tr>\n",
       "    <tr>\n",
       "      <th>629766</th>\n",
       "      <td>14</td>\n",
       "      <td>0</td>\n",
       "      <td>3</td>\n",
       "      <td>0</td>\n",
       "      <td>629892</td>\n",
       "      <td>54</td>\n",
       "      <td>90.84</td>\n",
       "      <td>80.00</td>\n",
       "      <td>2022</td>\n",
       "      <td>1.000000</td>\n",
       "      <td>6.123234e-17</td>\n",
       "      <td>-0.937752</td>\n",
       "      <td>0.347305</td>\n",
       "      <td>-0.398401</td>\n",
       "      <td>-0.917211</td>\n",
       "    </tr>\n",
       "    <tr>\n",
       "      <th>1579289</th>\n",
       "      <td>2</td>\n",
       "      <td>1</td>\n",
       "      <td>1</td>\n",
       "      <td>1</td>\n",
       "      <td>1579819</td>\n",
       "      <td>65</td>\n",
       "      <td>42.25</td>\n",
       "      <td>66.88</td>\n",
       "      <td>2023</td>\n",
       "      <td>0.500000</td>\n",
       "      <td>8.660254e-01</td>\n",
       "      <td>0.299363</td>\n",
       "      <td>-0.954139</td>\n",
       "      <td>0.730836</td>\n",
       "      <td>0.682553</td>\n",
       "    </tr>\n",
       "    <tr>\n",
       "      <th>1299685</th>\n",
       "      <td>15</td>\n",
       "      <td>0</td>\n",
       "      <td>1</td>\n",
       "      <td>1</td>\n",
       "      <td>1300079</td>\n",
       "      <td>57</td>\n",
       "      <td>94.92</td>\n",
       "      <td>116.65</td>\n",
       "      <td>2022</td>\n",
       "      <td>-0.866025</td>\n",
       "      <td>5.000000e-01</td>\n",
       "      <td>-0.790776</td>\n",
       "      <td>-0.612106</td>\n",
       "      <td>0.887885</td>\n",
       "      <td>0.460065</td>\n",
       "    </tr>\n",
       "    <tr>\n",
       "      <th>238386</th>\n",
       "      <td>13</td>\n",
       "      <td>0</td>\n",
       "      <td>1</td>\n",
       "      <td>0</td>\n",
       "      <td>238512</td>\n",
       "      <td>50</td>\n",
       "      <td>94.07</td>\n",
       "      <td>83.52</td>\n",
       "      <td>2021</td>\n",
       "      <td>-0.500000</td>\n",
       "      <td>8.660254e-01</td>\n",
       "      <td>-0.651372</td>\n",
       "      <td>-0.758758</td>\n",
       "      <td>-0.887885</td>\n",
       "      <td>0.460065</td>\n",
       "    </tr>\n",
       "    <tr>\n",
       "      <th>...</th>\n",
       "      <td>...</td>\n",
       "      <td>...</td>\n",
       "      <td>...</td>\n",
       "      <td>...</td>\n",
       "      <td>...</td>\n",
       "      <td>...</td>\n",
       "      <td>...</td>\n",
       "      <td>...</td>\n",
       "      <td>...</td>\n",
       "      <td>...</td>\n",
       "      <td>...</td>\n",
       "      <td>...</td>\n",
       "      <td>...</td>\n",
       "      <td>...</td>\n",
       "      <td>...</td>\n",
       "    </tr>\n",
       "    <tr>\n",
       "      <th>259178</th>\n",
       "      <td>13</td>\n",
       "      <td>0</td>\n",
       "      <td>3</td>\n",
       "      <td>0</td>\n",
       "      <td>259304</td>\n",
       "      <td>51</td>\n",
       "      <td>217.06</td>\n",
       "      <td>84.64</td>\n",
       "      <td>2021</td>\n",
       "      <td>-0.500000</td>\n",
       "      <td>8.660254e-01</td>\n",
       "      <td>-0.848644</td>\n",
       "      <td>0.528964</td>\n",
       "      <td>-0.942261</td>\n",
       "      <td>-0.334880</td>\n",
       "    </tr>\n",
       "    <tr>\n",
       "      <th>1414414</th>\n",
       "      <td>5</td>\n",
       "      <td>1</td>\n",
       "      <td>3</td>\n",
       "      <td>0</td>\n",
       "      <td>1414944</td>\n",
       "      <td>23</td>\n",
       "      <td>179.96</td>\n",
       "      <td>133.74</td>\n",
       "      <td>2022</td>\n",
       "      <td>-0.500000</td>\n",
       "      <td>8.660254e-01</td>\n",
       "      <td>-0.988468</td>\n",
       "      <td>0.151428</td>\n",
       "      <td>0.269797</td>\n",
       "      <td>0.962917</td>\n",
       "    </tr>\n",
       "    <tr>\n",
       "      <th>131932</th>\n",
       "      <td>15</td>\n",
       "      <td>0</td>\n",
       "      <td>1</td>\n",
       "      <td>0</td>\n",
       "      <td>131932</td>\n",
       "      <td>57</td>\n",
       "      <td>72.45</td>\n",
       "      <td>67.52</td>\n",
       "      <td>2021</td>\n",
       "      <td>-0.866025</td>\n",
       "      <td>5.000000e-01</td>\n",
       "      <td>0.101168</td>\n",
       "      <td>-0.994869</td>\n",
       "      <td>-0.398401</td>\n",
       "      <td>-0.917211</td>\n",
       "    </tr>\n",
       "    <tr>\n",
       "      <th>671155</th>\n",
       "      <td>7</td>\n",
       "      <td>1</td>\n",
       "      <td>3</td>\n",
       "      <td>1</td>\n",
       "      <td>671549</td>\n",
       "      <td>30</td>\n",
       "      <td>87.16</td>\n",
       "      <td>116.88</td>\n",
       "      <td>2022</td>\n",
       "      <td>0.866025</td>\n",
       "      <td>-5.000000e-01</td>\n",
       "      <td>0.988468</td>\n",
       "      <td>0.151428</td>\n",
       "      <td>0.136167</td>\n",
       "      <td>-0.990686</td>\n",
       "    </tr>\n",
       "    <tr>\n",
       "      <th>121958</th>\n",
       "      <td>11</td>\n",
       "      <td>1</td>\n",
       "      <td>3</td>\n",
       "      <td>0</td>\n",
       "      <td>121958</td>\n",
       "      <td>48</td>\n",
       "      <td>135.09</td>\n",
       "      <td>67.22</td>\n",
       "      <td>2021</td>\n",
       "      <td>-0.866025</td>\n",
       "      <td>5.000000e-01</td>\n",
       "      <td>0.651372</td>\n",
       "      <td>-0.758758</td>\n",
       "      <td>0.997669</td>\n",
       "      <td>-0.068242</td>\n",
       "    </tr>\n",
       "  </tbody>\n",
       "</table>\n",
       "<p>2010409 rows × 15 columns</p>\n",
       "</div>"
      ],
      "text/plain": [
       "         county  is_business  product_type  is_consumption   row_id  \\\n",
       "423986       10            0             3               0   424112   \n",
       "629766       14            0             3               0   629892   \n",
       "1579289       2            1             1               1  1579819   \n",
       "1299685      15            0             1               1  1300079   \n",
       "238386       13            0             1               0   238512   \n",
       "...         ...          ...           ...             ...      ...   \n",
       "259178       13            0             3               0   259304   \n",
       "1414414       5            1             3               0  1414944   \n",
       "131932       15            0             1               0   131932   \n",
       "671155        7            1             3               1   671549   \n",
       "121958       11            1             3               0   121958   \n",
       "\n",
       "         prediction_unit_id  euros_per_mwh  gas_price  year  sin_month  \\\n",
       "423986                   39         181.38      77.91  2022   0.500000   \n",
       "629766                   54          90.84      80.00  2022   1.000000   \n",
       "1579289                  65          42.25      66.88  2023   0.500000   \n",
       "1299685                  57          94.92     116.65  2022  -0.866025   \n",
       "238386                   50          94.07      83.52  2021  -0.500000   \n",
       "...                     ...            ...        ...   ...        ...   \n",
       "259178                   51         217.06      84.64  2021  -0.500000   \n",
       "1414414                  23         179.96     133.74  2022  -0.500000   \n",
       "131932                   57          72.45      67.52  2021  -0.866025   \n",
       "671155                   30          87.16     116.88  2022   0.866025   \n",
       "121958                   48         135.09      67.22  2021  -0.866025   \n",
       "\n",
       "            cos_month   sin_day   cos_day  sin_time  cos_time  \n",
       "423986   8.660254e-01 -0.651372 -0.758758 -0.631088 -0.775711  \n",
       "629766   6.123234e-17 -0.937752  0.347305 -0.398401 -0.917211  \n",
       "1579289  8.660254e-01  0.299363 -0.954139  0.730836  0.682553  \n",
       "1299685  5.000000e-01 -0.790776 -0.612106  0.887885  0.460065  \n",
       "238386   8.660254e-01 -0.651372 -0.758758 -0.887885  0.460065  \n",
       "...               ...       ...       ...       ...       ...  \n",
       "259178   8.660254e-01 -0.848644  0.528964 -0.942261 -0.334880  \n",
       "1414414  8.660254e-01 -0.988468  0.151428  0.269797  0.962917  \n",
       "131932   5.000000e-01  0.101168 -0.994869 -0.398401 -0.917211  \n",
       "671155  -5.000000e-01  0.988468  0.151428  0.136167 -0.990686  \n",
       "121958   5.000000e-01  0.651372 -0.758758  0.997669 -0.068242  \n",
       "\n",
       "[2010409 rows x 15 columns]"
      ]
     },
     "execution_count": 4,
     "metadata": {},
     "output_type": "execute_result"
    }
   ],
   "source": [
    "X_train"
   ]
  },
  {
   "cell_type": "code",
   "execution_count": 5,
   "metadata": {},
   "outputs": [
    {
     "data": {
      "text/plain": [
       "0"
      ]
     },
     "execution_count": 5,
     "metadata": {},
     "output_type": "execute_result"
    }
   ],
   "source": [
    "y_train.isna().sum()"
   ]
  },
  {
   "cell_type": "code",
   "execution_count": 6,
   "metadata": {},
   "outputs": [
    {
     "data": {
      "text/plain": [
       "2010409"
      ]
     },
     "execution_count": 6,
     "metadata": {},
     "output_type": "execute_result"
    }
   ],
   "source": [
    "len(X_train)"
   ]
  },
  {
   "cell_type": "code",
   "execution_count": 7,
   "metadata": {},
   "outputs": [
    {
     "data": {
      "text/plain": [
       "365.938814875946"
      ]
     },
     "execution_count": 7,
     "metadata": {},
     "output_type": "execute_result"
    }
   ],
   "source": [
    "reg = LinearRegression().fit(X_train, y_train)\n",
    "\n",
    "reg.score(X_train, y_train)\n",
    "\n",
    "y_train_hat = reg.predict(X_train)\n",
    "\n",
    "np.mean(abs(y_train_hat - y_train))"
   ]
  },
  {
   "cell_type": "code",
   "execution_count": 8,
   "metadata": {},
   "outputs": [],
   "source": [
    "def model_evaluator(model_trained):\n",
    "    temp_y_train_hat = model_trained.predict(X_test)\n",
    "    print('MAE',mean_absolute_error(y_test, temp_y_train_hat))\n",
    "    print('MSE',mean_squared_error(y_test, temp_y_train_hat))\n",
    "    print('MAPE:',mean_absolute_percentage_error(y_test, temp_y_train_hat))"
   ]
  },
  {
   "cell_type": "code",
   "execution_count": 9,
   "metadata": {},
   "outputs": [
    {
     "name": "stdout",
     "output_type": "stream",
     "text": [
      "MAE 373.89438219792544\n",
      "MSE 867131.8698371053\n",
      "MAPE: 2.219556908757536e+17\n"
     ]
    }
   ],
   "source": [
    "dummy_regr = DummyRegressor(strategy='mean').fit(X_train, y_train)\n",
    "model_evaluator(dummy_regr)"
   ]
  },
  {
   "cell_type": "code",
   "execution_count": 10,
   "metadata": {},
   "outputs": [
    {
     "name": "stdout",
     "output_type": "stream",
     "text": [
      "MAE 369.7301161563031\n",
      "MSE 758084.0555965513\n",
      "MAPE: 1.6783701191721706e+17\n"
     ]
    }
   ],
   "source": [
    "model_evaluator(reg)"
   ]
  },
  {
   "cell_type": "code",
   "execution_count": 11,
   "metadata": {},
   "outputs": [],
   "source": [
    "import xgboost as xgb"
   ]
  },
  {
   "cell_type": "code",
   "execution_count": 20,
   "metadata": {},
   "outputs": [
    {
     "name": "stdout",
     "output_type": "stream",
     "text": [
      "Test avec les paramètres n_estimators à 45 et max_depth à 60 :\n",
      "Entraînement terminé\n",
      "Fin de la série d'entraînement\n"
     ]
    }
   ],
   "source": [
    "list_scores = []\n",
    "\n",
    "for i in range(45, 46, 15):\n",
    "    for j in range(128, 129, 2):\n",
    "        print(f\"Test avec les paramètres n_estimators à {i} et max_depth à {j} :\")\n",
    "        temp_clf = xgb.XGBRegressor(n_estimators=i ,max_depth=j, random_state=0, learning_rate=1.0).fit(X_train, y_train)\n",
    "        print(\"Entraînement terminé\")\n",
    "        y_train_hat = temp_clf.predict(X_train)\n",
    "        y_test_hat = temp_clf.predict(X_test)\n",
    "        list_scores.append({\n",
    "            \"n_estimators\": i,\n",
    "            \"max_depth\": j,\n",
    "            \"train_mae\": mean_absolute_error(y_train, y_train_hat),\n",
    "            \"test_mae\": mean_absolute_error(y_test, y_test_hat)\n",
    "        })\n",
    "\n",
    "print(\"Fin de la série d'entraînement\")"
   ]
  },
  {
   "cell_type": "code",
   "execution_count": 21,
   "metadata": {},
   "outputs": [
    {
     "data": {
      "text/html": [
       "<div>\n",
       "<style scoped>\n",
       "    .dataframe tbody tr th:only-of-type {\n",
       "        vertical-align: middle;\n",
       "    }\n",
       "\n",
       "    .dataframe tbody tr th {\n",
       "        vertical-align: top;\n",
       "    }\n",
       "\n",
       "    .dataframe thead th {\n",
       "        text-align: right;\n",
       "    }\n",
       "</style>\n",
       "<table border=\"1\" class=\"dataframe\">\n",
       "  <thead>\n",
       "    <tr style=\"text-align: right;\">\n",
       "      <th></th>\n",
       "      <th>n_estimators</th>\n",
       "      <th>max_depth</th>\n",
       "      <th>train_mae</th>\n",
       "      <th>test_mae</th>\n",
       "    </tr>\n",
       "  </thead>\n",
       "  <tbody>\n",
       "    <tr>\n",
       "      <th>0</th>\n",
       "      <td>45</td>\n",
       "      <td>60</td>\n",
       "      <td>0.00057</td>\n",
       "      <td>35.385106</td>\n",
       "    </tr>\n",
       "  </tbody>\n",
       "</table>\n",
       "</div>"
      ],
      "text/plain": [
       "   n_estimators  max_depth  train_mae   test_mae\n",
       "0            45         60    0.00057  35.385106"
      ]
     },
     "execution_count": 21,
     "metadata": {},
     "output_type": "execute_result"
    }
   ],
   "source": [
    "scores = pd.DataFrame(list_scores)\n",
    "\n",
    "scores.sort_values(by='test_mae')"
   ]
  }
 ],
 "metadata": {
  "kernelspec": {
   "display_name": "Python 3",
   "language": "python",
   "name": "python3"
  },
  "language_info": {
   "codemirror_mode": {
    "name": "ipython",
    "version": 3
   },
   "file_extension": ".py",
   "mimetype": "text/x-python",
   "name": "python",
   "nbconvert_exporter": "python",
   "pygments_lexer": "ipython3",
   "version": "3.12.0"
  }
 },
 "nbformat": 4,
 "nbformat_minor": 2
}
